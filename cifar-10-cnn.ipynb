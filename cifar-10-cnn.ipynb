{
  "cells": [
    {
      "cell_type": "code",
      "execution_count": 1,
      "metadata": {
        "pycharm": {}
      },
      "outputs": [],
      "source": "import tensorflow as tf\nfrom tensorflow import keras"
    },
    {
      "cell_type": "code",
      "execution_count": 2,
      "metadata": {
        "pycharm": {}
      },
      "outputs": [],
      "source": [
        "train_epochs \u003d 1\n",
        "batch_size \u003d 100\n",
        "test_batch_size \u003d 100\n",
        "learning_rate \u003d 0.01\n",
        "display_step \u003d 10"
      ]
    },
    {
      "cell_type": "code",
      "execution_count": 3,
      "metadata": {
        "pycharm": {}
      },
      "outputs": [],
      "source": "(x_train_data, y_train_data), (x_test_data, y_test_data) \u003d keras.datasets.cifar10.load_data()"
    },
    {
      "cell_type": "code",
      "execution_count": 4,
      "metadata": {
        "pycharm": {}
      },
      "outputs": [
        {
          "name": "stdout",
          "output_type": "stream",
          "text": [
            "WARNING:tensorflow:From /Users/taoting/Desktop/code/python/deeplearning/venv/lib/python3.6/site-packages/tensorflow/python/data/ops/dataset_ops.py:1419: colocate_with (from tensorflow.python.framework.ops) is deprecated and will be removed in a future version.\n",
            "Instructions for updating:\n",
            "Colocations handled automatically by placer.\n"
          ]
        }
      ],
      "source": [
        "train_dataset \u003d tf.data.Dataset.from_tensor_slices((x_train_data, y_train_data)) \\\n",
        "    .map(lambda a, b: (a / 255, tf.one_hot(b, 10))) \\\n",
        "    .shuffle(1000).repeat(train_epochs).batch(batch_size)\n",
        "\n",
        "test_dataset \u003d tf.data.Dataset.from_tensor_slices((x_test_data, y_test_data)) \\\n",
        "    .map(lambda a, b: (a / 255, tf.one_hot(b, 10))) \\\n",
        "    .shuffle(1000).repeat().batch(test_batch_size)\n",
        "\n",
        "train_iterator \u003d train_dataset.make_initializable_iterator()\n",
        "train_next_element \u003d train_iterator.get_next()\n",
        "test_iterator \u003d test_dataset.make_initializable_iterator()\n",
        "test_next_element \u003d test_iterator.get_next()"
      ]
    },
    {
      "cell_type": "code",
      "execution_count": 5,
      "metadata": {
        "pycharm": {}
      },
      "outputs": [],
      "source": [
        "x \u003d tf.placeholder(tf.float32, [None, 32, 32, 3], name\u003d\u0027x\u0027)\n",
        "y \u003d tf.placeholder(tf.float32, [None, 10], name\u003d\u0027y\u0027)"
      ]
    },
    {
      "cell_type": "code",
      "execution_count": 6,
      "metadata": {
        "pycharm": {}
      },
      "outputs": [
        {
          "name": "stdout",
          "output_type": "stream",
          "text": [
            "WARNING:tensorflow:From \u003cipython-input-6-6013c0e5449b\u003e:1: conv2d (from tensorflow.python.layers.convolutional) is deprecated and will be removed in a future version.\n",
            "Instructions for updating:\n",
            "Use keras.layers.conv2d instead.\n",
            "WARNING:tensorflow:From \u003cipython-input-6-6013c0e5449b\u003e:2: max_pooling2d (from tensorflow.python.layers.pooling) is deprecated and will be removed in a future version.\n",
            "Instructions for updating:\n",
            "Use keras.layers.max_pooling2d instead.\n",
            "WARNING:tensorflow:From \u003cipython-input-6-6013c0e5449b\u003e:6: dense (from tensorflow.python.layers.core) is deprecated and will be removed in a future version.\n",
            "Instructions for updating:\n",
            "Use keras.layers.dense instead.\n",
            "WARNING:tensorflow:From \u003cipython-input-6-6013c0e5449b\u003e:7: dropout (from tensorflow.python.layers.core) is deprecated and will be removed in a future version.\n",
            "Instructions for updating:\n",
            "Use keras.layers.dropout instead.\n"
          ]
        }
      ],
      "source": [
        "conv1 \u003d tf.layers.conv2d(inputs\u003dx,filters\u003d32,kernel_size\u003d[5, 5],strides\u003d1,padding\u003d\u0027same\u0027,activation\u003dtf.nn.relu)\n",
        "pool1 \u003d tf.layers.max_pooling2d(inputs\u003dconv1,pool_size\u003d[2, 2],strides\u003d2)\n",
        "conv2 \u003d tf.layers.conv2d(inputs\u003dpool1,filters\u003d64,kernel_size\u003d[5, 5],strides\u003d1,padding\u003d\u0027same\u0027,activation\u003dtf.nn.relu)\n",
        "pool2 \u003d tf.layers.max_pooling2d(inputs\u003dconv2,pool_size\u003d[2, 2],strides\u003d2)\n",
        "flat \u003d tf.reshape(pool2, [-1, 8 * 8 * 64])\n",
        "dense \u003d tf.layers.dense(inputs\u003dflat, units\u003d128, activation\u003dtf.nn.relu)\n",
        "dropout \u003d tf.layers.dropout(inputs\u003ddense, rate\u003d0.5)"
      ]
    },
    {
      "cell_type": "code",
      "execution_count": 7,
      "metadata": {
        "pycharm": {}
      },
      "outputs": [],
      "source": [
        "pred \u003d tf.layers.dense(inputs\u003ddropout, units\u003d10)"
      ]
    },
    {
      "cell_type": "code",
      "execution_count": 8,
      "metadata": {
        "pycharm": {}
      },
      "outputs": [
        {
          "name": "stdout",
          "output_type": "stream",
          "text": [
            "WARNING:tensorflow:From /Users/taoting/Desktop/code/python/deeplearning/venv/lib/python3.6/site-packages/tensorflow/python/ops/losses/losses_impl.py:209: to_float (from tensorflow.python.ops.math_ops) is deprecated and will be removed in a future version.\n",
            "Instructions for updating:\n",
            "Use tf.cast instead.\n"
          ]
        }
      ],
      "source": [
        "loss_function \u003d tf.losses.softmax_cross_entropy(onehot_labels\u003dy, logits\u003dpred)"
      ]
    },
    {
      "cell_type": "code",
      "execution_count": 9,
      "metadata": {
        "pycharm": {}
      },
      "outputs": [],
      "source": [
        "optimizer \u003d tf.train.AdamOptimizer(learning_rate).minimize(loss_function)"
      ]
    },
    {
      "cell_type": "code",
      "execution_count": 10,
      "metadata": {
        "pycharm": {}
      },
      "outputs": [],
      "source": [
        "correct_pred \u003d tf.equal(tf.argmax(y,1),tf.argmax(pred,1))\n",
        "accuracy \u003d tf.reduce_mean(tf.cast(correct_pred,tf.float32))"
      ]
    },
    {
      "cell_type": "code",
      "execution_count": 11,
      "metadata": {
        "pycharm": {}
      },
      "outputs": [],
      "source": [
        "sess \u003d tf.Session()\n",
        "sess.run(tf.global_variables_initializer())\n",
        "sess.run(train_iterator.initializer)\n",
        "sess.run(test_iterator.initializer)"
      ]
    },
    {
      "cell_type": "code",
      "execution_count": 12,
      "metadata": {
        "pycharm": {}
      },
      "outputs": [
        {
          "name": "stdout",
          "output_type": "stream",
          "text": [
            "step:10 loss:2.30570 acc:0.09000\n",
            "step:20 loss:2.28180 acc:0.14000\n",
            "step:30 loss:2.21219 acc:0.19000\n",
            "step:40 loss:2.16115 acc:0.20000\n",
            "step:50 loss:1.98060 acc:0.27000\n",
            "step:60 loss:2.02055 acc:0.26000\n",
            "step:70 loss:1.97656 acc:0.29000\n",
            "step:80 loss:2.03214 acc:0.27000\n",
            "step:90 loss:1.89747 acc:0.39000\n",
            "step:100 loss:1.94737 acc:0.32000\n",
            "step:110 loss:2.04442 acc:0.22000\n",
            "step:120 loss:1.83090 acc:0.36000\n",
            "step:130 loss:1.86879 acc:0.32000\n",
            "step:140 loss:1.88326 acc:0.26000\n",
            "step:150 loss:1.71838 acc:0.36000\n",
            "step:160 loss:1.84461 acc:0.30000\n",
            "step:170 loss:1.98106 acc:0.25000\n",
            "step:180 loss:1.78292 acc:0.31000\n",
            "step:190 loss:1.93423 acc:0.30000\n",
            "step:200 loss:1.97306 acc:0.24000\n",
            "step:210 loss:1.86205 acc:0.31000\n",
            "step:220 loss:1.86340 acc:0.37000\n",
            "step:230 loss:1.69379 acc:0.36000\n",
            "step:240 loss:1.81818 acc:0.35000\n",
            "step:250 loss:2.02534 acc:0.29000\n",
            "step:260 loss:1.84191 acc:0.29000\n",
            "step:270 loss:1.85498 acc:0.34000\n",
            "step:280 loss:1.67842 acc:0.37000\n",
            "step:290 loss:1.90287 acc:0.29000\n",
            "step:300 loss:1.80552 acc:0.34000\n",
            "step:310 loss:1.76180 acc:0.41000\n",
            "step:320 loss:1.81443 acc:0.33000\n",
            "step:330 loss:1.75430 acc:0.38000\n",
            "step:340 loss:1.93618 acc:0.34000\n",
            "step:350 loss:1.72190 acc:0.44000\n",
            "step:360 loss:1.71786 acc:0.36000\n",
            "step:370 loss:1.75869 acc:0.32000\n",
            "step:380 loss:1.74988 acc:0.43000\n",
            "step:390 loss:1.72193 acc:0.38000\n",
            "step:400 loss:1.67861 acc:0.36000\n",
            "step:410 loss:1.91929 acc:0.30000\n",
            "step:420 loss:1.74885 acc:0.33000\n",
            "step:430 loss:1.91986 acc:0.30000\n",
            "step:440 loss:1.80578 acc:0.33000\n",
            "step:450 loss:1.76180 acc:0.39000\n",
            "step:460 loss:1.87654 acc:0.32000\n",
            "step:470 loss:1.95389 acc:0.28000\n",
            "step:480 loss:1.76890 acc:0.35000\n",
            "step:490 loss:1.87599 acc:0.32000\n",
            "step:500 loss:1.55799 acc:0.46000\n"
          ]
        }
      ],
      "source": [
        "step \u003d 0\n",
        "while 1:\n",
        "    try:\n",
        "        xs, ys \u003d sess.run(train_next_element)\n",
        "    except tf.errors.OutOfRangeError:\n",
        "        break\n",
        "\n",
        "    sess.run([optimizer], feed_dict\u003d{x: xs, y: ys})\n",
        "    step +\u003d 1\n",
        "    if step % display_step \u003d\u003d 0:\n",
        "        xss, yss \u003d sess.run(test_next_element)\n",
        "        loss, acc \u003d sess.run([loss_function, accuracy], feed_dict\u003d{x: xss, y: yss})\n",
        "        print(\u0027step:{:d} loss:{:.05f} acc:{:.05f}\u0027.format(step, loss, acc))\n"
      ]
    }
  ],
  "metadata": {
    "kernelspec": {
      "display_name": "Python 3",
      "language": "python",
      "name": "python3"
    },
    "language_info": {
      "codemirror_mode": {
        "name": "ipython",
        "version": 3
      },
      "file_extension": ".py",
      "mimetype": "text/x-python",
      "name": "python",
      "nbconvert_exporter": "python",
      "pygments_lexer": "ipython3",
      "version": "3.6.8"
    }
  },
  "nbformat": 4,
  "nbformat_minor": 2
}