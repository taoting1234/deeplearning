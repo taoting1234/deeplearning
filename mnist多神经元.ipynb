{
 "cells": [
  {
   "cell_type": "code",
   "execution_count": 1,
   "metadata": {},
   "outputs": [],
   "source": [
    "import tensorflow as tf\n",
    "import numpy as np\n",
    "import tensorflow.examples.tutorials.mnist.input_data as input_data"
   ]
  },
  {
   "cell_type": "code",
   "execution_count": 2,
   "metadata": {},
   "outputs": [
    {
     "name": "stdout",
     "output_type": "stream",
     "text": [
      "WARNING:tensorflow:From <ipython-input-2-2ac7c527462b>:1: read_data_sets (from tensorflow.contrib.learn.python.learn.datasets.mnist) is deprecated and will be removed in a future version.\n",
      "Instructions for updating:\n",
      "Please use alternatives such as official/mnist/dataset.py from tensorflow/models.\n",
      "WARNING:tensorflow:From /Users/taoting/Desktop/code/python/deeplearning/venv/lib/python3.6/site-packages/tensorflow/contrib/learn/python/learn/datasets/mnist.py:260: maybe_download (from tensorflow.contrib.learn.python.learn.datasets.base) is deprecated and will be removed in a future version.\n",
      "Instructions for updating:\n",
      "Please write your own downloading logic.\n",
      "WARNING:tensorflow:From /Users/taoting/Desktop/code/python/deeplearning/venv/lib/python3.6/site-packages/tensorflow/contrib/learn/python/learn/datasets/mnist.py:262: extract_images (from tensorflow.contrib.learn.python.learn.datasets.mnist) is deprecated and will be removed in a future version.\n",
      "Instructions for updating:\n",
      "Please use tf.data to implement this functionality.\n",
      "Extracting data/mnist/train-images-idx3-ubyte.gz\n",
      "WARNING:tensorflow:From /Users/taoting/Desktop/code/python/deeplearning/venv/lib/python3.6/site-packages/tensorflow/contrib/learn/python/learn/datasets/mnist.py:267: extract_labels (from tensorflow.contrib.learn.python.learn.datasets.mnist) is deprecated and will be removed in a future version.\n",
      "Instructions for updating:\n",
      "Please use tf.data to implement this functionality.\n",
      "Extracting data/mnist/train-labels-idx1-ubyte.gz\n",
      "WARNING:tensorflow:From /Users/taoting/Desktop/code/python/deeplearning/venv/lib/python3.6/site-packages/tensorflow/contrib/learn/python/learn/datasets/mnist.py:110: dense_to_one_hot (from tensorflow.contrib.learn.python.learn.datasets.mnist) is deprecated and will be removed in a future version.\n",
      "Instructions for updating:\n",
      "Please use tf.one_hot on tensors.\n",
      "Extracting data/mnist/t10k-images-idx3-ubyte.gz\n",
      "Extracting data/mnist/t10k-labels-idx1-ubyte.gz\n",
      "WARNING:tensorflow:From /Users/taoting/Desktop/code/python/deeplearning/venv/lib/python3.6/site-packages/tensorflow/contrib/learn/python/learn/datasets/mnist.py:290: DataSet.__init__ (from tensorflow.contrib.learn.python.learn.datasets.mnist) is deprecated and will be removed in a future version.\n",
      "Instructions for updating:\n",
      "Please use alternatives such as official/mnist/dataset.py from tensorflow/models.\n"
     ]
    }
   ],
   "source": [
    "mnist = input_data.read_data_sets('data/mnist/', one_hot=True)"
   ]
  },
  {
   "cell_type": "code",
   "execution_count": 3,
   "metadata": {},
   "outputs": [],
   "source": [
    "x = tf.placeholder(tf.float32, [None, 784]) / 255\n",
    "y = tf.placeholder(tf.float32, [None, 10])"
   ]
  },
  {
   "cell_type": "code",
   "execution_count": 4,
   "metadata": {},
   "outputs": [
    {
     "name": "stdout",
     "output_type": "stream",
     "text": [
      "WARNING:tensorflow:From /Users/taoting/Desktop/code/python/deeplearning/venv/lib/python3.6/site-packages/tensorflow/python/framework/op_def_library.py:263: colocate_with (from tensorflow.python.framework.ops) is deprecated and will be removed in a future version.\n",
      "Instructions for updating:\n",
      "Colocations handled automatically by placer.\n"
     ]
    }
   ],
   "source": [
    "H1_NN = 256\n",
    "H2_NN = 64\n",
    "H3_NN = 32\n",
    "\n",
    "w1 = tf.Variable(tf.truncated_normal([784, H1_NN],stddev=0.1))\n",
    "b1 = tf.Variable(tf.zeros([H1_NN]))\n",
    "\n",
    "w2 = tf.Variable(tf.truncated_normal([H1_NN, H2_NN],stddev=0.1))\n",
    "b2 = tf.Variable(tf.zeros([H2_NN]))\n",
    "\n",
    "w3 = tf.Variable(tf.truncated_normal([H2_NN, H3_NN],stddev=0.1))\n",
    "b3 = tf.Variable(tf.zeros([H3_NN]))\n",
    "\n",
    "w4 = tf.Variable(tf.truncated_normal([H3_NN, 10],stddev=0.1))\n",
    "b4 = tf.Variable(tf.zeros([10]))"
   ]
  },
  {
   "cell_type": "code",
   "execution_count": 5,
   "metadata": {},
   "outputs": [],
   "source": [
    "y1 = tf.nn.relu(tf.matmul(x, w1) + b1)\n",
    "y2 = tf.nn.relu(tf.matmul(y1, w2) + b2)\n",
    "y3 = tf.nn.relu(tf.matmul(y2, w3) + b3)\n",
    "pred = tf.nn.softmax(tf.matmul(y3, w4) + b4)"
   ]
  },
  {
   "cell_type": "code",
   "execution_count": 6,
   "metadata": {},
   "outputs": [],
   "source": [
    "train_steps = 10000\n",
    "learning_rate = 0.001\n",
    "batch_size = 100\n",
    "display_steps = 100"
   ]
  },
  {
   "cell_type": "code",
   "execution_count": 7,
   "metadata": {},
   "outputs": [
    {
     "name": "stdout",
     "output_type": "stream",
     "text": [
      "WARNING:tensorflow:From /Users/taoting/Desktop/code/python/deeplearning/venv/lib/python3.6/site-packages/tensorflow/python/ops/losses/losses_impl.py:209: to_float (from tensorflow.python.ops.math_ops) is deprecated and will be removed in a future version.\n",
      "Instructions for updating:\n",
      "Use tf.cast instead.\n"
     ]
    }
   ],
   "source": [
    "loss_function = tf.losses.softmax_cross_entropy(onehot_labels=y, logits=pred)"
   ]
  },
  {
   "cell_type": "code",
   "execution_count": 8,
   "metadata": {},
   "outputs": [],
   "source": [
    "optimizer = tf.train.AdamOptimizer(learning_rate).minimize(loss_function)"
   ]
  },
  {
   "cell_type": "code",
   "execution_count": 9,
   "metadata": {},
   "outputs": [],
   "source": [
    "correct_pred = tf.equal(tf.argmax(y,1),tf.argmax(pred,1))\n",
    "accuracy = tf.reduce_mean(tf.cast(correct_pred,tf.float32))"
   ]
  },
  {
   "cell_type": "code",
   "execution_count": 10,
   "metadata": {},
   "outputs": [
    {
     "name": "stdout",
     "output_type": "stream",
     "text": [
      "step:100 loss:1.73792 acc:0.73580\n",
      "step:200 loss:1.70237 acc:0.76740\n",
      "step:300 loss:1.63995 acc:0.82720\n",
      "step:400 loss:1.62854 acc:0.83860\n",
      "step:500 loss:1.62927 acc:0.83280\n",
      "step:600 loss:1.61881 acc:0.84480\n",
      "step:700 loss:1.61353 acc:0.84820\n",
      "step:800 loss:1.53149 acc:0.93760\n",
      "step:900 loss:1.52345 acc:0.94040\n",
      "step:1000 loss:1.51302 acc:0.95140\n",
      "step:1100 loss:1.51426 acc:0.95000\n",
      "step:1200 loss:1.51251 acc:0.95120\n",
      "step:1300 loss:1.50870 acc:0.95540\n",
      "step:1400 loss:1.50733 acc:0.95560\n",
      "step:1500 loss:1.50244 acc:0.95980\n",
      "step:1600 loss:1.50346 acc:0.96040\n",
      "step:1700 loss:1.49918 acc:0.96340\n",
      "step:1800 loss:1.49734 acc:0.96640\n",
      "step:1900 loss:1.49851 acc:0.96460\n",
      "step:2000 loss:1.49875 acc:0.96440\n",
      "step:2100 loss:1.50406 acc:0.95840\n",
      "step:2200 loss:1.49863 acc:0.96340\n",
      "step:2300 loss:1.49242 acc:0.96960\n",
      "step:2400 loss:1.49412 acc:0.96800\n",
      "step:2500 loss:1.49281 acc:0.96840\n",
      "step:2600 loss:1.49199 acc:0.97040\n",
      "step:2700 loss:1.49782 acc:0.96380\n",
      "step:2800 loss:1.49241 acc:0.96920\n",
      "step:2900 loss:1.49019 acc:0.97240\n",
      "step:3000 loss:1.49173 acc:0.97060\n",
      "step:3100 loss:1.48935 acc:0.97220\n",
      "step:3200 loss:1.48997 acc:0.97260\n",
      "step:3300 loss:1.49244 acc:0.96940\n",
      "step:3400 loss:1.48861 acc:0.97420\n",
      "step:3500 loss:1.48890 acc:0.97360\n",
      "step:3600 loss:1.48696 acc:0.97420\n",
      "step:3700 loss:1.48802 acc:0.97460\n",
      "step:3800 loss:1.48876 acc:0.97220\n",
      "step:3900 loss:1.48906 acc:0.97360\n",
      "step:4000 loss:1.48614 acc:0.97640\n",
      "step:4100 loss:1.48688 acc:0.97540\n",
      "step:4200 loss:1.48954 acc:0.97140\n",
      "step:4300 loss:1.48743 acc:0.97540\n",
      "step:4400 loss:1.48905 acc:0.97240\n",
      "step:4500 loss:1.48799 acc:0.97420\n",
      "step:4600 loss:1.49050 acc:0.97200\n",
      "step:4700 loss:1.48690 acc:0.97440\n",
      "step:4800 loss:1.48709 acc:0.97440\n",
      "step:4900 loss:1.49178 acc:0.96920\n",
      "step:5000 loss:1.48659 acc:0.97500\n",
      "step:5100 loss:1.48993 acc:0.97240\n",
      "step:5200 loss:1.48636 acc:0.97580\n",
      "step:5300 loss:1.48646 acc:0.97620\n",
      "step:5400 loss:1.48552 acc:0.97620\n",
      "step:5500 loss:1.48418 acc:0.97780\n",
      "step:5600 loss:1.48637 acc:0.97520\n",
      "step:5700 loss:1.48617 acc:0.97560\n",
      "step:5800 loss:1.48916 acc:0.97200\n",
      "step:5900 loss:1.48682 acc:0.97420\n",
      "step:6000 loss:1.48683 acc:0.97480\n",
      "step:6100 loss:1.48638 acc:0.97520\n",
      "step:6200 loss:1.48516 acc:0.97660\n",
      "step:6300 loss:1.48463 acc:0.97800\n",
      "step:6400 loss:1.48700 acc:0.97460\n",
      "step:6500 loss:1.49026 acc:0.97160\n",
      "step:6600 loss:1.48444 acc:0.97780\n",
      "step:6700 loss:1.48398 acc:0.97700\n",
      "step:6800 loss:1.48390 acc:0.97740\n",
      "step:6900 loss:1.48680 acc:0.97440\n",
      "step:7000 loss:1.48573 acc:0.97600\n",
      "step:7100 loss:1.48538 acc:0.97640\n",
      "step:7200 loss:1.48521 acc:0.97640\n",
      "step:7300 loss:1.48534 acc:0.97580\n",
      "step:7400 loss:1.49033 acc:0.97080\n",
      "step:7500 loss:1.48415 acc:0.97700\n",
      "step:7600 loss:1.48486 acc:0.97640\n",
      "step:7700 loss:1.48740 acc:0.97400\n",
      "step:7800 loss:1.48717 acc:0.97420\n",
      "step:7900 loss:1.48547 acc:0.97560\n",
      "step:8000 loss:1.48540 acc:0.97620\n",
      "step:8100 loss:1.48372 acc:0.97760\n",
      "step:8200 loss:1.48452 acc:0.97660\n",
      "step:8300 loss:1.48309 acc:0.97860\n",
      "step:8400 loss:1.48492 acc:0.97600\n",
      "step:8500 loss:1.48217 acc:0.97880\n",
      "step:8600 loss:1.48259 acc:0.97840\n",
      "step:8700 loss:1.48796 acc:0.97320\n",
      "step:8800 loss:1.48431 acc:0.97680\n",
      "step:8900 loss:1.48291 acc:0.97860\n",
      "step:9000 loss:1.48211 acc:0.97900\n",
      "step:9100 loss:1.48517 acc:0.97540\n",
      "step:9200 loss:1.48422 acc:0.97720\n",
      "step:9300 loss:1.48443 acc:0.97660\n",
      "step:9400 loss:1.48133 acc:0.98000\n",
      "step:9500 loss:1.48364 acc:0.97780\n",
      "step:9600 loss:1.48199 acc:0.97980\n",
      "step:9700 loss:1.48295 acc:0.97880\n",
      "step:9800 loss:1.48495 acc:0.97620\n",
      "step:9900 loss:1.48669 acc:0.97440\n",
      "step:10000 loss:1.48428 acc:0.97700\n",
      "train finished!\n"
     ]
    }
   ],
   "source": [
    "sess = tf.Session()\n",
    "sess.run(tf.global_variables_initializer())\n",
    "for step in range(train_steps):\n",
    "    xs,ys = mnist.train.next_batch(batch_size)\n",
    "    sess.run([optimizer],feed_dict={x:xs,y:ys})\n",
    "    if (step+1) % display_steps == 0:\n",
    "        loss,acc = sess.run([loss_function,accuracy],feed_dict={x:mnist.validation.images,y:mnist.validation.labels})\n",
    "        print('step:{:d} loss:{:.05f} acc:{:.05f}'.format(step+1,loss,acc))\n",
    "print('train finished!')"
   ]
  },
  {
   "cell_type": "code",
   "execution_count": 11,
   "metadata": {},
   "outputs": [
    {
     "name": "stdout",
     "output_type": "stream",
     "text": [
      "推测的数字 [5 7 1 7 1 1 6 3 0 2 9 3 1 1 0 4 9 2 0 0]\n",
      "真实的数字 [5 7 1 7 1 1 6 3 0 2 9 3 1 1 0 4 9 2 0 0]\n"
     ]
    }
   ],
   "source": [
    "pred_y = np.argmax(sess.run(pred, {x: mnist.validation.images[100:120]}),1)\n",
    "true_y = np.argmax(mnist.validation.labels[100:120],1)\n",
    "print('推测的数字', pred_y)\n",
    "print('真实的数字', true_y)"
   ]
  },
  {
   "cell_type": "code",
   "execution_count": null,
   "metadata": {},
   "outputs": [],
   "source": []
  }
 ],
 "metadata": {
  "kernelspec": {
   "display_name": "Python 3",
   "language": "python",
   "name": "python3"
  },
  "language_info": {
   "codemirror_mode": {
    "name": "ipython",
    "version": 3
   },
   "file_extension": ".py",
   "mimetype": "text/x-python",
   "name": "python",
   "nbconvert_exporter": "python",
   "pygments_lexer": "ipython3",
   "version": "3.6.8"
  }
 },
 "nbformat": 4,
 "nbformat_minor": 2
}
