{
 "cells": [
  {
   "cell_type": "markdown",
   "metadata": {},
   "source": [
    "导入"
   ]
  },
  {
   "cell_type": "code",
   "execution_count": 1,
   "metadata": {},
   "outputs": [],
   "source": [
    "import tensorflow as tf\n",
    "import numpy as np\n",
    "import tensorflow.examples.tutorials.mnist.input_data as input_data"
   ]
  },
  {
   "cell_type": "markdown",
   "metadata": {},
   "source": [
    "加载数据"
   ]
  },
  {
   "cell_type": "code",
   "execution_count": 2,
   "metadata": {},
   "outputs": [
    {
     "name": "stdout",
     "output_type": "stream",
     "text": [
      "WARNING:tensorflow:From <ipython-input-2-2ac7c527462b>:1: read_data_sets (from tensorflow.contrib.learn.python.learn.datasets.mnist) is deprecated and will be removed in a future version.\n",
      "Instructions for updating:\n",
      "Please use alternatives such as official/mnist/dataset.py from tensorflow/models.\n",
      "WARNING:tensorflow:From /Users/taoting/Desktop/code/python/deeplearning/venv/lib/python3.6/site-packages/tensorflow/contrib/learn/python/learn/datasets/mnist.py:260: maybe_download (from tensorflow.contrib.learn.python.learn.datasets.base) is deprecated and will be removed in a future version.\n",
      "Instructions for updating:\n",
      "Please write your own downloading logic.\n",
      "WARNING:tensorflow:From /Users/taoting/Desktop/code/python/deeplearning/venv/lib/python3.6/site-packages/tensorflow/contrib/learn/python/learn/datasets/mnist.py:262: extract_images (from tensorflow.contrib.learn.python.learn.datasets.mnist) is deprecated and will be removed in a future version.\n",
      "Instructions for updating:\n",
      "Please use tf.data to implement this functionality.\n",
      "Extracting data/mnist/train-images-idx3-ubyte.gz\n",
      "WARNING:tensorflow:From /Users/taoting/Desktop/code/python/deeplearning/venv/lib/python3.6/site-packages/tensorflow/contrib/learn/python/learn/datasets/mnist.py:267: extract_labels (from tensorflow.contrib.learn.python.learn.datasets.mnist) is deprecated and will be removed in a future version.\n",
      "Instructions for updating:\n",
      "Please use tf.data to implement this functionality.\n",
      "Extracting data/mnist/train-labels-idx1-ubyte.gz\n",
      "WARNING:tensorflow:From /Users/taoting/Desktop/code/python/deeplearning/venv/lib/python3.6/site-packages/tensorflow/contrib/learn/python/learn/datasets/mnist.py:110: dense_to_one_hot (from tensorflow.contrib.learn.python.learn.datasets.mnist) is deprecated and will be removed in a future version.\n",
      "Instructions for updating:\n",
      "Please use tf.one_hot on tensors.\n",
      "Extracting data/mnist/t10k-images-idx3-ubyte.gz\n",
      "Extracting data/mnist/t10k-labels-idx1-ubyte.gz\n",
      "WARNING:tensorflow:From /Users/taoting/Desktop/code/python/deeplearning/venv/lib/python3.6/site-packages/tensorflow/contrib/learn/python/learn/datasets/mnist.py:290: DataSet.__init__ (from tensorflow.contrib.learn.python.learn.datasets.mnist) is deprecated and will be removed in a future version.\n",
      "Instructions for updating:\n",
      "Please use alternatives such as official/mnist/dataset.py from tensorflow/models.\n"
     ]
    }
   ],
   "source": [
    "mnist = input_data.read_data_sets('data/mnist/', one_hot=True)"
   ]
  },
  {
   "cell_type": "markdown",
   "metadata": {},
   "source": [
    "定义模型"
   ]
  },
  {
   "cell_type": "code",
   "execution_count": 3,
   "metadata": {},
   "outputs": [
    {
     "name": "stdout",
     "output_type": "stream",
     "text": [
      "WARNING:tensorflow:From /Users/taoting/Desktop/code/python/deeplearning/venv/lib/python3.6/site-packages/tensorflow/python/framework/op_def_library.py:263: colocate_with (from tensorflow.python.framework.ops) is deprecated and will be removed in a future version.\n",
      "Instructions for updating:\n",
      "Colocations handled automatically by placer.\n"
     ]
    }
   ],
   "source": [
    "x = tf.placeholder(tf.float32, [None, 784], name='x') / 255\n",
    "y = tf.placeholder(tf.float32, [None, 10], name='y')\n",
    "\n",
    "w = tf.Variable(tf.truncated_normal([784, 10],stddev=0.1), name='w')\n",
    "b = tf.Variable(tf.zeros([10]), name='b')"
   ]
  },
  {
   "cell_type": "code",
   "execution_count": 4,
   "metadata": {},
   "outputs": [],
   "source": [
    "pred = tf.nn.softmax(tf.matmul(x, w) + b)"
   ]
  },
  {
   "cell_type": "markdown",
   "metadata": {},
   "source": [
    "定义超参数"
   ]
  },
  {
   "cell_type": "code",
   "execution_count": 5,
   "metadata": {},
   "outputs": [],
   "source": [
    "train_steps = 10000\n",
    "learning_rate = 0.001\n",
    "batch_size = 100\n",
    "display_steps = 100"
   ]
  },
  {
   "cell_type": "markdown",
   "metadata": {},
   "source": [
    "定义损失函数"
   ]
  },
  {
   "cell_type": "code",
   "execution_count": 6,
   "metadata": {},
   "outputs": [
    {
     "name": "stdout",
     "output_type": "stream",
     "text": [
      "WARNING:tensorflow:From /Users/taoting/Desktop/code/python/deeplearning/venv/lib/python3.6/site-packages/tensorflow/python/ops/losses/losses_impl.py:209: to_float (from tensorflow.python.ops.math_ops) is deprecated and will be removed in a future version.\n",
      "Instructions for updating:\n",
      "Use tf.cast instead.\n"
     ]
    }
   ],
   "source": [
    "loss_function = tf.losses.softmax_cross_entropy(onehot_labels=y, logits=pred)"
   ]
  },
  {
   "cell_type": "markdown",
   "metadata": {},
   "source": [
    "定义优化器"
   ]
  },
  {
   "cell_type": "code",
   "execution_count": 7,
   "metadata": {},
   "outputs": [],
   "source": [
    "optimizer = tf.train.AdamOptimizer(learning_rate).minimize(loss_function)"
   ]
  },
  {
   "cell_type": "markdown",
   "metadata": {},
   "source": [
    "计算准确率"
   ]
  },
  {
   "cell_type": "code",
   "execution_count": 8,
   "metadata": {},
   "outputs": [],
   "source": [
    "correct_pred = tf.equal(tf.argmax(y,1),tf.argmax(pred,1))\n",
    "accuracy = tf.reduce_mean(tf.cast(correct_pred,tf.float32))"
   ]
  },
  {
   "cell_type": "markdown",
   "metadata": {},
   "source": [
    "初始化"
   ]
  },
  {
   "cell_type": "code",
   "execution_count": 9,
   "metadata": {},
   "outputs": [],
   "source": [
    "sess = tf.Session()\n",
    "sess.run(tf.global_variables_initializer())"
   ]
  },
  {
   "cell_type": "markdown",
   "metadata": {},
   "source": [
    "开始训练"
   ]
  },
  {
   "cell_type": "code",
   "execution_count": 10,
   "metadata": {},
   "outputs": [
    {
     "name": "stdout",
     "output_type": "stream",
     "text": [
      "step:100 loss:1.84032 acc:0.73220\n",
      "step:200 loss:1.70873 acc:0.84760\n",
      "step:300 loss:1.65795 acc:0.87360\n",
      "step:400 loss:1.63235 acc:0.88660\n",
      "step:500 loss:1.61736 acc:0.89480\n",
      "step:600 loss:1.60474 acc:0.90020\n",
      "step:700 loss:1.59690 acc:0.90340\n",
      "step:800 loss:1.59082 acc:0.90660\n",
      "step:900 loss:1.58508 acc:0.90760\n",
      "step:1000 loss:1.58065 acc:0.91180\n",
      "step:1100 loss:1.57707 acc:0.91260\n",
      "step:1200 loss:1.57390 acc:0.91360\n",
      "step:1300 loss:1.57076 acc:0.91620\n",
      "step:1400 loss:1.56850 acc:0.91720\n",
      "step:1500 loss:1.56677 acc:0.91780\n",
      "step:1600 loss:1.56485 acc:0.91940\n",
      "step:1700 loss:1.56324 acc:0.91760\n",
      "step:1800 loss:1.56121 acc:0.91900\n",
      "step:1900 loss:1.56025 acc:0.91900\n",
      "step:2000 loss:1.55842 acc:0.92480\n",
      "step:2100 loss:1.55727 acc:0.92100\n",
      "step:2200 loss:1.55729 acc:0.92260\n",
      "step:2300 loss:1.55611 acc:0.92180\n",
      "step:2400 loss:1.55512 acc:0.92280\n",
      "step:2500 loss:1.55316 acc:0.92360\n",
      "step:2600 loss:1.55325 acc:0.92520\n",
      "step:2700 loss:1.55267 acc:0.92320\n",
      "step:2800 loss:1.55203 acc:0.92340\n",
      "step:2900 loss:1.55118 acc:0.92420\n",
      "step:3000 loss:1.55028 acc:0.92520\n",
      "step:3100 loss:1.54939 acc:0.92640\n",
      "step:3200 loss:1.54929 acc:0.92620\n",
      "step:3300 loss:1.54828 acc:0.92680\n",
      "step:3400 loss:1.54788 acc:0.92600\n",
      "step:3500 loss:1.54784 acc:0.92520\n",
      "step:3600 loss:1.54712 acc:0.92600\n",
      "step:3700 loss:1.54691 acc:0.92680\n",
      "step:3800 loss:1.54596 acc:0.92780\n",
      "step:3900 loss:1.54581 acc:0.92780\n",
      "step:4000 loss:1.54584 acc:0.92760\n",
      "step:4100 loss:1.54472 acc:0.92680\n",
      "step:4200 loss:1.54448 acc:0.92760\n",
      "step:4300 loss:1.54382 acc:0.92880\n",
      "step:4400 loss:1.54393 acc:0.92840\n",
      "step:4500 loss:1.54357 acc:0.92780\n",
      "step:4600 loss:1.54375 acc:0.92840\n",
      "step:4700 loss:1.54263 acc:0.92880\n",
      "step:4800 loss:1.54291 acc:0.92740\n",
      "step:4900 loss:1.54245 acc:0.92940\n",
      "step:5000 loss:1.54259 acc:0.92800\n",
      "step:5100 loss:1.54190 acc:0.93060\n",
      "step:5200 loss:1.54142 acc:0.92980\n",
      "step:5300 loss:1.54138 acc:0.93000\n",
      "step:5400 loss:1.54103 acc:0.92920\n",
      "step:5500 loss:1.54110 acc:0.92960\n",
      "step:5600 loss:1.54070 acc:0.93060\n",
      "step:5700 loss:1.54071 acc:0.93020\n",
      "step:5800 loss:1.54013 acc:0.92860\n",
      "step:5900 loss:1.54051 acc:0.92860\n",
      "step:6000 loss:1.53991 acc:0.92960\n",
      "step:6100 loss:1.53967 acc:0.92940\n",
      "step:6200 loss:1.53919 acc:0.93040\n",
      "step:6300 loss:1.54016 acc:0.92880\n",
      "step:6400 loss:1.53987 acc:0.92900\n",
      "step:6500 loss:1.53929 acc:0.93080\n",
      "step:6600 loss:1.53884 acc:0.93100\n",
      "step:6700 loss:1.53834 acc:0.93080\n",
      "step:6800 loss:1.53862 acc:0.93060\n",
      "step:6900 loss:1.53873 acc:0.92940\n",
      "step:7000 loss:1.53799 acc:0.93020\n",
      "step:7100 loss:1.53838 acc:0.93040\n",
      "step:7200 loss:1.53789 acc:0.93240\n",
      "step:7300 loss:1.53824 acc:0.93060\n",
      "step:7400 loss:1.53817 acc:0.93160\n",
      "step:7500 loss:1.53744 acc:0.93220\n",
      "step:7600 loss:1.53714 acc:0.93200\n",
      "step:7700 loss:1.53728 acc:0.93060\n",
      "step:7800 loss:1.53770 acc:0.93060\n",
      "step:7900 loss:1.53691 acc:0.93180\n",
      "step:8000 loss:1.53698 acc:0.93180\n",
      "step:8100 loss:1.53712 acc:0.93240\n",
      "step:8200 loss:1.53712 acc:0.93260\n",
      "step:8300 loss:1.53667 acc:0.93260\n",
      "step:8400 loss:1.53649 acc:0.93300\n",
      "step:8500 loss:1.53670 acc:0.93180\n",
      "step:8600 loss:1.53600 acc:0.93220\n",
      "step:8700 loss:1.53626 acc:0.93140\n",
      "step:8800 loss:1.53630 acc:0.93200\n",
      "step:8900 loss:1.53571 acc:0.93340\n",
      "step:9000 loss:1.53589 acc:0.93240\n",
      "step:9100 loss:1.53640 acc:0.93220\n",
      "step:9200 loss:1.53597 acc:0.93140\n",
      "step:9300 loss:1.53611 acc:0.93120\n",
      "step:9400 loss:1.53554 acc:0.93340\n",
      "step:9500 loss:1.53503 acc:0.93420\n",
      "step:9600 loss:1.53495 acc:0.93340\n",
      "step:9700 loss:1.53486 acc:0.93320\n",
      "step:9800 loss:1.53554 acc:0.93240\n",
      "step:9900 loss:1.53481 acc:0.93320\n",
      "step:10000 loss:1.53531 acc:0.93180\n",
      "train finished!\n"
     ]
    }
   ],
   "source": [
    "for step in range(train_steps):\n",
    "    xs,ys = mnist.train.next_batch(batch_size)\n",
    "    sess.run([optimizer],feed_dict={x:xs,y:ys})\n",
    "    if (step+1) % display_steps == 0:\n",
    "        loss,acc = sess.run([loss_function,accuracy],feed_dict={x:mnist.validation.images,y:mnist.validation.labels})\n",
    "        print('step:{:d} loss:{:.05f} acc:{:.05f}'.format(step+1,loss,acc))\n",
    "print('train finished!')"
   ]
  },
  {
   "cell_type": "markdown",
   "metadata": {},
   "source": [
    "预测"
   ]
  },
  {
   "cell_type": "code",
   "execution_count": 11,
   "metadata": {},
   "outputs": [
    {
     "name": "stdout",
     "output_type": "stream",
     "text": [
      "推测的数字 [5 7 1 7 1 1 6 3 0 2 9 3 1 1 0 4 9 2 0 0]\n",
      "真实的数字 [5 7 1 7 1 1 6 3 0 2 9 3 1 1 0 4 9 2 0 0]\n"
     ]
    }
   ],
   "source": [
    "pred_y = np.argmax(sess.run(pred, {x: mnist.validation.images[100:120]}),1)\n",
    "true_y = np.argmax(mnist.validation.labels[100:120],1)\n",
    "print('推测的数字', pred_y)\n",
    "print('真实的数字', true_y)"
   ]
  }
 ],
 "metadata": {
  "kernelspec": {
   "display_name": "Python 3",
   "language": "python",
   "name": "python3"
  },
  "language_info": {
   "codemirror_mode": {
    "name": "ipython",
    "version": 3
   },
   "file_extension": ".py",
   "mimetype": "text/x-python",
   "name": "python",
   "nbconvert_exporter": "python",
   "pygments_lexer": "ipython3",
   "version": "3.6.8"
  }
 },
 "nbformat": 4,
 "nbformat_minor": 2
}
