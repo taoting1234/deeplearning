{
  "cells": [
    {
      "cell_type": "code",
      "execution_count": 1,
      "metadata": {
        "pycharm": {
          "is_executing": false
        }
      },
      "outputs": [],
      "source": "import tensorflow as tf\nimport numpy as np\nfrom tensorflow import keras"
    },
    {
      "cell_type": "code",
      "execution_count": 2,
      "metadata": {
        "pycharm": {}
      },
      "outputs": [],
      "source": "train_epochs \u003d 10\nbatch_size \u003d 100\ntest_batch_size \u003d 100\nlearning_rate \u003d 0.01\ndisplay_step \u003d 10"
    },
    {
      "cell_type": "code",
      "execution_count": 4,
      "metadata": {
        "pycharm": {}
      },
      "outputs": [
        {
          "name": "stdout",
          "output_type": "stream",
          "text": [
            "WARNING:tensorflow:From /Users/taoting/Desktop/code/python/deeplearning/venv/lib/python3.6/site-packages/tensorflow/python/data/ops/dataset_ops.py:1419: colocate_with (from tensorflow.python.framework.ops) is deprecated and will be removed in a future version.\n",
            "Instructions for updating:\n",
            "Colocations handled automatically by placer.\n"
          ]
        }
      ],
      "source": "(x_train_data, y_train_data), (x_test_data, y_test_data) \u003d keras.datasets.mnist.load_data()\n\ntrain_dataset \u003d tf.data.Dataset.from_tensor_slices((x_train_data, y_train_data)) \\\n    .map(lambda a, b: (tf.reshape(a, (28, 28, 1)) / 255, tf.one_hot(b, 10))) \\\n    .shuffle(1000).repeat(train_epochs).batch(batch_size)\n\ntest_dataset \u003d tf.data.Dataset.from_tensor_slices((x_test_data, y_test_data)) \\\n    .map(lambda a, b: (tf.reshape(a, (28, 28, 1)) / 255, tf.one_hot(b, 10))) \\\n    .shuffle(1000).repeat().batch(test_batch_size)\n\ntrain_iterator \u003d train_dataset.make_initializable_iterator()\ntrain_next_element \u003d train_iterator.get_next()\ntest_iterator \u003d test_dataset.make_initializable_iterator()\ntest_next_element \u003d test_iterator.get_next()"
    },
    {
      "cell_type": "code",
      "execution_count": 5,
      "metadata": {
        "pycharm": {}
      },
      "outputs": [],
      "source": [
        "x \u003d tf.placeholder(tf.float32, [None, 28, 28, 1], name\u003d\u0027x\u0027)\n",
        "y \u003d tf.placeholder(tf.float32, [None, 10], name\u003d\u0027y\u0027)"
      ]
    },
    {
      "cell_type": "code",
      "execution_count": 6,
      "metadata": {
        "pycharm": {}
      },
      "outputs": [
        {
          "name": "stdout",
          "output_type": "stream",
          "text": [
            "WARNING:tensorflow:From \u003cipython-input-6-e6c97345a93b\u003e:1: conv2d (from tensorflow.python.layers.convolutional) is deprecated and will be removed in a future version.\n",
            "Instructions for updating:\n",
            "Use keras.layers.conv2d instead.\n",
            "WARNING:tensorflow:From \u003cipython-input-6-e6c97345a93b\u003e:2: max_pooling2d (from tensorflow.python.layers.pooling) is deprecated and will be removed in a future version.\n",
            "Instructions for updating:\n",
            "Use keras.layers.max_pooling2d instead.\n",
            "WARNING:tensorflow:From \u003cipython-input-6-e6c97345a93b\u003e:6: dense (from tensorflow.python.layers.core) is deprecated and will be removed in a future version.\n",
            "Instructions for updating:\n",
            "Use keras.layers.dense instead.\n",
            "WARNING:tensorflow:From \u003cipython-input-6-e6c97345a93b\u003e:7: dropout (from tensorflow.python.layers.core) is deprecated and will be removed in a future version.\n",
            "Instructions for updating:\n",
            "Use keras.layers.dropout instead.\n"
          ]
        }
      ],
      "source": [
        "conv1 \u003d tf.layers.conv2d(inputs\u003dx,filters\u003d32,kernel_size\u003d[5, 5],strides\u003d1,padding\u003d\u0027same\u0027,activation\u003dtf.nn.relu)\n",
        "pool1 \u003d tf.layers.max_pooling2d(inputs\u003dconv1,pool_size\u003d[2, 2],strides\u003d2)\n",
        "conv2 \u003d tf.layers.conv2d(inputs\u003dpool1,filters\u003d64,kernel_size\u003d[5, 5],strides\u003d1,padding\u003d\u0027same\u0027,activation\u003dtf.nn.relu)\n",
        "pool2 \u003d tf.layers.max_pooling2d(inputs\u003dconv2,pool_size\u003d[2, 2],strides\u003d2)\n",
        "flat \u003d tf.reshape(pool2, [-1, 7 * 7 * 64])\n",
        "dense \u003d tf.layers.dense(inputs\u003dflat, units\u003d1024, activation\u003dtf.nn.relu)\n",
        "dropout \u003d tf.layers.dropout(inputs\u003ddense, rate\u003d0.5)"
      ]
    },
    {
      "cell_type": "code",
      "execution_count": 7,
      "metadata": {
        "pycharm": {}
      },
      "outputs": [],
      "source": [
        "pred \u003d tf.layers.dense(inputs\u003ddropout, units\u003d10)"
      ]
    },
    {
      "cell_type": "code",
      "execution_count": 8,
      "metadata": {
        "pycharm": {}
      },
      "outputs": [
        {
          "name": "stdout",
          "output_type": "stream",
          "text": [
            "WARNING:tensorflow:From /Users/taoting/Desktop/code/python/deeplearning/venv/lib/python3.6/site-packages/tensorflow/python/ops/losses/losses_impl.py:209: to_float (from tensorflow.python.ops.math_ops) is deprecated and will be removed in a future version.\n",
            "Instructions for updating:\n",
            "Use tf.cast instead.\n"
          ]
        }
      ],
      "source": [
        "loss_function \u003d tf.losses.softmax_cross_entropy(onehot_labels\u003dy, logits\u003dpred)"
      ]
    },
    {
      "cell_type": "code",
      "execution_count": 9,
      "metadata": {
        "pycharm": {}
      },
      "outputs": [],
      "source": [
        "optimizer \u003d tf.train.AdamOptimizer(learning_rate).minimize(loss_function)"
      ]
    },
    {
      "cell_type": "code",
      "execution_count": 10,
      "metadata": {
        "pycharm": {}
      },
      "outputs": [],
      "source": [
        "correct_pred \u003d tf.equal(tf.argmax(y,1),tf.argmax(pred,1))\n",
        "accuracy \u003d tf.reduce_mean(tf.cast(correct_pred,tf.float32))"
      ]
    },
    {
      "cell_type": "code",
      "execution_count": 11,
      "metadata": {
        "pycharm": {}
      },
      "outputs": [],
      "source": [
        "sess \u003d tf.Session()\n",
        "sess.run(tf.global_variables_initializer())\n",
        "sess.run(train_iterator.initializer)\n",
        "sess.run(test_iterator.initializer)"
      ]
    },
    {
      "cell_type": "code",
      "execution_count": 12,
      "metadata": {
        "pycharm": {}
      },
      "outputs": [
        {
          "ename": "ValueError",
          "evalue": "Cannot feed value of shape (100, 1, 28, 28, 1) for Tensor \u0027x:0\u0027, which has shape \u0027(?, 28, 28, 1)\u0027",
          "output_type": "error",
          "traceback": [
            "\u001b[0;31m---------------------------------------------------------------------------\u001b[0m",
            "\u001b[0;31mValueError\u001b[0m                                Traceback (most recent call last)",
            "\u001b[0;32m\u003cipython-input-12-4c07db14e1c9\u003e\u001b[0m in \u001b[0;36m\u003cmodule\u003e\u001b[0;34m\u001b[0m\n\u001b[1;32m      6\u001b[0m         \u001b[0;32mbreak\u001b[0m\u001b[0;34m\u001b[0m\u001b[0;34m\u001b[0m\u001b[0m\n\u001b[1;32m      7\u001b[0m \u001b[0;34m\u001b[0m\u001b[0m\n\u001b[0;32m----\u003e 8\u001b[0;31m     \u001b[0msess\u001b[0m\u001b[0;34m.\u001b[0m\u001b[0mrun\u001b[0m\u001b[0;34m(\u001b[0m\u001b[0;34m[\u001b[0m\u001b[0moptimizer\u001b[0m\u001b[0;34m]\u001b[0m\u001b[0;34m,\u001b[0m \u001b[0mfeed_dict\u001b[0m\u001b[0;34m\u003d\u001b[0m\u001b[0;34m{\u001b[0m\u001b[0mx\u001b[0m\u001b[0;34m:\u001b[0m \u001b[0mxs\u001b[0m\u001b[0;34m,\u001b[0m \u001b[0my\u001b[0m\u001b[0;34m:\u001b[0m \u001b[0mys\u001b[0m\u001b[0;34m}\u001b[0m\u001b[0;34m)\u001b[0m\u001b[0;34m\u001b[0m\u001b[0;34m\u001b[0m\u001b[0m\n\u001b[0m\u001b[1;32m      9\u001b[0m     \u001b[0mstep\u001b[0m \u001b[0;34m+\u003d\u001b[0m \u001b[0;36m1\u001b[0m\u001b[0;34m\u001b[0m\u001b[0;34m\u001b[0m\u001b[0m\n\u001b[1;32m     10\u001b[0m     \u001b[0;32mif\u001b[0m \u001b[0mstep\u001b[0m \u001b[0;34m%\u001b[0m \u001b[0mdisplay_step\u001b[0m \u001b[0;34m\u003d\u003d\u001b[0m \u001b[0;36m0\u001b[0m\u001b[0;34m:\u001b[0m\u001b[0;34m\u001b[0m\u001b[0;34m\u001b[0m\u001b[0m\n",
            "\u001b[0;32m~/Desktop/code/python/deeplearning/venv/lib/python3.6/site-packages/tensorflow/python/client/session.py\u001b[0m in \u001b[0;36mrun\u001b[0;34m(self, fetches, feed_dict, options, run_metadata)\u001b[0m\n\u001b[1;32m    927\u001b[0m     \u001b[0;32mtry\u001b[0m\u001b[0;34m:\u001b[0m\u001b[0;34m\u001b[0m\u001b[0;34m\u001b[0m\u001b[0m\n\u001b[1;32m    928\u001b[0m       result \u003d self._run(None, fetches, feed_dict, options_ptr,\n\u001b[0;32m--\u003e 929\u001b[0;31m                          run_metadata_ptr)\n\u001b[0m\u001b[1;32m    930\u001b[0m       \u001b[0;32mif\u001b[0m \u001b[0mrun_metadata\u001b[0m\u001b[0;34m:\u001b[0m\u001b[0;34m\u001b[0m\u001b[0;34m\u001b[0m\u001b[0m\n\u001b[1;32m    931\u001b[0m         \u001b[0mproto_data\u001b[0m \u001b[0;34m\u003d\u001b[0m \u001b[0mtf_session\u001b[0m\u001b[0;34m.\u001b[0m\u001b[0mTF_GetBuffer\u001b[0m\u001b[0;34m(\u001b[0m\u001b[0mrun_metadata_ptr\u001b[0m\u001b[0;34m)\u001b[0m\u001b[0;34m\u001b[0m\u001b[0;34m\u001b[0m\u001b[0m\n",
            "\u001b[0;32m~/Desktop/code/python/deeplearning/venv/lib/python3.6/site-packages/tensorflow/python/client/session.py\u001b[0m in \u001b[0;36m_run\u001b[0;34m(self, handle, fetches, feed_dict, options, run_metadata)\u001b[0m\n\u001b[1;32m   1126\u001b[0m                              \u001b[0;34m\u0027which has shape %r\u0027\u001b[0m \u001b[0;34m%\u001b[0m\u001b[0;34m\u001b[0m\u001b[0;34m\u001b[0m\u001b[0m\n\u001b[1;32m   1127\u001b[0m                              (np_val.shape, subfeed_t.name,\n\u001b[0;32m-\u003e 1128\u001b[0;31m                               str(subfeed_t.get_shape())))\n\u001b[0m\u001b[1;32m   1129\u001b[0m           \u001b[0;32mif\u001b[0m \u001b[0;32mnot\u001b[0m \u001b[0mself\u001b[0m\u001b[0;34m.\u001b[0m\u001b[0mgraph\u001b[0m\u001b[0;34m.\u001b[0m\u001b[0mis_feedable\u001b[0m\u001b[0;34m(\u001b[0m\u001b[0msubfeed_t\u001b[0m\u001b[0;34m)\u001b[0m\u001b[0;34m:\u001b[0m\u001b[0;34m\u001b[0m\u001b[0;34m\u001b[0m\u001b[0m\n\u001b[1;32m   1130\u001b[0m             \u001b[0;32mraise\u001b[0m \u001b[0mValueError\u001b[0m\u001b[0;34m(\u001b[0m\u001b[0;34m\u0027Tensor %s may not be fed.\u0027\u001b[0m \u001b[0;34m%\u001b[0m \u001b[0msubfeed_t\u001b[0m\u001b[0;34m)\u001b[0m\u001b[0;34m\u001b[0m\u001b[0;34m\u001b[0m\u001b[0m\n",
            "\u001b[0;31mValueError\u001b[0m: Cannot feed value of shape (100, 1, 28, 28, 1) for Tensor \u0027x:0\u0027, which has shape \u0027(?, 28, 28, 1)\u0027"
          ]
        }
      ],
      "source": [
        "step \u003d 0\n",
        "while 1:\n",
        "    try:\n",
        "        xs, ys \u003d sess.run(train_next_element)\n",
        "    except tf.errors.OutOfRangeError:\n",
        "        break\n",
        "\n",
        "    sess.run([optimizer], feed_dict\u003d{x: xs, y: ys})\n",
        "    step +\u003d 1\n",
        "    if step % display_step \u003d\u003d 0:\n",
        "        xss, yss \u003d sess.run(test_next_element)\n",
        "        loss, acc \u003d sess.run([loss_function, accuracy], feed_dict\u003d{x: xss, y: yss})\n",
        "        print(\u0027step:{:d} loss:{:.05f} acc:{:.05f}\u0027.format(step, loss, acc))"
      ]
    },
    {
      "cell_type": "code",
      "execution_count": null,
      "metadata": {
        "pycharm": {}
      },
      "outputs": [],
      "source": "pred_y \u003d np.argmax(sess.run(pred, {x: x_test_data[100:120]}),1)\ntrue_y \u003d np.argmax(y_test_data[100:120],1)\nprint(\u0027推测的数字\u0027, pred_y)\nprint(\u0027真实的数字\u0027, true_y)"
    }
  ],
  "metadata": {
    "kernelspec": {
      "display_name": "Python 3",
      "language": "python",
      "name": "python3"
    },
    "language_info": {
      "codemirror_mode": {
        "name": "ipython",
        "version": 3
      },
      "file_extension": ".py",
      "mimetype": "text/x-python",
      "name": "python",
      "nbconvert_exporter": "python",
      "pygments_lexer": "ipython3",
      "version": "3.6.8"
    }
  },
  "nbformat": 4,
  "nbformat_minor": 2
}