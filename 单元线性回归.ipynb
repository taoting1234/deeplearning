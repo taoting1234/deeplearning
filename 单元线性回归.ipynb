{
 "cells": [
  {
   "cell_type": "markdown",
   "metadata": {
    "pycharm": {
     "metadata": false
    }
   },
   "source": [
    "导入"
   ]
  },
  {
   "cell_type": "code",
   "execution_count": 1,
   "metadata": {
    "pycharm": {
     "is_executing": false,
     "metadata": false,
     "name": "#%%\n"
    }
   },
   "outputs": [],
   "source": [
    "%matplotlib inline\n",
    "\n",
    "import tensorflow as tf\n",
    "import numpy as np\n",
    "import matplotlib.pyplot as plt"
   ]
  },
  {
   "cell_type": "markdown",
   "metadata": {
    "pycharm": {
     "metadata": false
    }
   },
   "source": [
    "生成data"
   ]
  },
  {
   "cell_type": "code",
   "execution_count": 2,
   "metadata": {
    "pycharm": {
     "is_executing": false,
     "metadata": false,
     "name": "#%%\n"
    }
   },
   "outputs": [],
   "source": [
    "x_data = np.linspace(0,100,500)\n",
    "y_data = 3.1234*x_data+2.98+np.random.randn(*x_data.shape)*20"
   ]
  },
  {
   "cell_type": "markdown",
   "metadata": {
    "pycharm": {
     "metadata": false
    }
   },
   "source": [
    "画图"
   ]
  },
  {
   "cell_type": "code",
   "execution_count": 3,
   "metadata": {
    "pycharm": {
     "metadata": false,
     "name": "#%%\n"
    }
   },
   "outputs": [
    {
     "data": {
      "text/plain": [
       "[<matplotlib.lines.Line2D at 0x131709b00>]"
      ]
     },
     "execution_count": 3,
     "metadata": {},
     "output_type": "execute_result"
    },
    {
     "data": {
      "image/png": "[encoded data removed]",
      "text/plain": [
       "<Figure size 432x288 with 1 Axes>"
      ]
     },
     "metadata": {
      "needs_background": "light"
     },
     "output_type": "display_data"
    }
   ],
   "source": [
    "plt.scatter(x_data,y_data)\n",
    "plt.plot(x_data,3.1234*x_data+2.98,color='red',linewidth=3)"
   ]
  },
  {
   "cell_type": "markdown",
   "metadata": {
    "pycharm": {
     "metadata": false
    }
   },
   "source": [
    "构建模型"
   ]
  },
  {
   "cell_type": "code",
   "execution_count": 4,
   "metadata": {
    "pycharm": {
     "metadata": false,
     "name": "#%%\n"
    },
    "scrolled": true
   },
   "outputs": [
    {
     "name": "stdout",
     "output_type": "stream",
     "text": [
      "WARNING:tensorflow:From /Users/taoting/Desktop/code/python/deeplearning/venv/lib/python3.6/site-packages/tensorflow/python/framework/op_def_library.py:263: colocate_with (from tensorflow.python.framework.ops) is deprecated and will be removed in a future version.\n",
      "Instructions for updating:\n",
      "Colocations handled automatically by placer.\n"
     ]
    }
   ],
   "source": [
    "x = tf.placeholder(tf.float32,name='x')\n",
    "y = tf.placeholder(tf.float32,name='y')\n",
    "\n",
    "w = tf.Variable(1.0,name='w')\n",
    "b = tf.Variable(0.0,name='b')\n",
    "pred = w*x+b"
   ]
  },
  {
   "cell_type": "markdown",
   "metadata": {
    "pycharm": {
     "metadata": false,
     "name": "#%% md\n"
    }
   },
   "source": [
    "定义参数"
   ]
  },
  {
   "cell_type": "code",
   "execution_count": 5,
   "metadata": {
    "pycharm": {
     "metadata": false,
     "name": "#%%\n"
    }
   },
   "outputs": [],
   "source": [
    "train_epochs = 100\n",
    "learning_rate = 0.01\n",
    "display_step = 1000"
   ]
  },
  {
   "cell_type": "markdown",
   "metadata": {
    "pycharm": {
     "metadata": false
    }
   },
   "source": [
    "定义损失函数"
   ]
  },
  {
   "cell_type": "code",
   "execution_count": 6,
   "metadata": {
    "pycharm": {
     "metadata": false,
     "name": "#%%\n"
    }
   },
   "outputs": [
    {
     "name": "stdout",
     "output_type": "stream",
     "text": [
      "WARNING:tensorflow:From /Users/taoting/Desktop/code/python/deeplearning/venv/lib/python3.6/site-packages/tensorflow/python/ops/losses/losses_impl.py:667: to_float (from tensorflow.python.ops.math_ops) is deprecated and will be removed in a future version.\n",
      "Instructions for updating:\n",
      "Use tf.cast instead.\n"
     ]
    }
   ],
   "source": [
    "loss_function = tf.losses.mean_squared_error(y,pred)"
   ]
  },
  {
   "cell_type": "markdown",
   "metadata": {
    "pycharm": {
     "metadata": false
    }
   },
   "source": [
    "定义优化器"
   ]
  },
  {
   "cell_type": "code",
   "execution_count": 7,
   "metadata": {
    "pycharm": {
     "metadata": false,
     "name": "#%%\n"
    }
   },
   "outputs": [
    {
     "name": "stdout",
     "output_type": "stream",
     "text": [
      "WARNING:tensorflow:From /Users/taoting/Desktop/code/python/deeplearning/venv/lib/python3.6/site-packages/tensorflow/python/ops/math_ops.py:3066: to_int32 (from tensorflow.python.ops.math_ops) is deprecated and will be removed in a future version.\n",
      "Instructions for updating:\n",
      "Use tf.cast instead.\n"
     ]
    }
   ],
   "source": [
    "optimizer = tf.train.AdamOptimizer(learning_rate).minimize(loss_function)"
   ]
  },
  {
   "cell_type": "markdown",
   "metadata": {
    "pycharm": {
     "metadata": false
    }
   },
   "source": [
    "训练"
   ]
  },
  {
   "cell_type": "code",
   "execution_count": 8,
   "metadata": {
    "pycharm": {
     "is_executing": false,
     "metadata": false,
     "name": "#%%\n"
    }
   },
   "outputs": [
    {
     "name": "stdout",
     "output_type": "stream",
     "text": [
      "epoch:02 step:1000 loss:463.2622760067\n",
      "epoch:04 step:2000 loss:369.1623753254\n",
      "epoch:06 step:3000 loss:368.8317656218\n",
      "epoch:08 step:4000 loss:368.5923933196\n",
      "epoch:10 step:5000 loss:368.4003516981\n",
      "epoch:12 step:6000 loss:368.2412380946\n",
      "epoch:14 step:7000 loss:368.1076787440\n",
      "epoch:16 step:8000 loss:367.9948238278\n",
      "epoch:18 step:9000 loss:367.8990918431\n",
      "epoch:20 step:10000 loss:367.8176110106\n",
      "epoch:22 step:11000 loss:367.7481106039\n",
      "epoch:24 step:12000 loss:367.6887300297\n",
      "epoch:26 step:13000 loss:367.6378467000\n",
      "epoch:28 step:14000 loss:367.5941552100\n",
      "epoch:30 step:15000 loss:367.5565420485\n",
      "epoch:32 step:16000 loss:367.5241369320\n",
      "epoch:34 step:17000 loss:367.4960508057\n",
      "epoch:36 step:18000 loss:367.4718068888\n",
      "epoch:38 step:19000 loss:367.4507245135\n",
      "epoch:40 step:20000 loss:367.4323097141\n",
      "epoch:42 step:21000 loss:367.4162977833\n",
      "epoch:44 step:22000 loss:367.4022975575\n",
      "epoch:46 step:23000 loss:367.3900107673\n",
      "epoch:48 step:24000 loss:367.3792189371\n",
      "epoch:50 step:25000 loss:367.3697340062\n",
      "epoch:52 step:26000 loss:367.3613786249\n",
      "epoch:54 step:27000 loss:367.3539967400\n",
      "epoch:56 step:28000 loss:367.3474366305\n",
      "epoch:58 step:29000 loss:367.3415901363\n",
      "epoch:60 step:30000 loss:367.3364422315\n",
      "epoch:62 step:31000 loss:367.3318917521\n",
      "epoch:64 step:32000 loss:367.3278111454\n",
      "epoch:66 step:33000 loss:367.3241469490\n",
      "epoch:68 step:34000 loss:367.3208843042\n",
      "epoch:70 step:35000 loss:367.3180059528\n",
      "epoch:72 step:36000 loss:367.3154106847\n",
      "epoch:74 step:37000 loss:367.3130720782\n",
      "epoch:76 step:38000 loss:367.3109377077\n",
      "epoch:78 step:39000 loss:367.3090441958\n",
      "epoch:80 step:40000 loss:367.3073827350\n",
      "epoch:82 step:41000 loss:367.3058286339\n",
      "epoch:84 step:42000 loss:367.3044721428\n",
      "epoch:86 step:43000 loss:367.3032287768\n",
      "epoch:88 step:44000 loss:367.3021039468\n",
      "epoch:90 step:45000 loss:367.3010962545\n",
      "epoch:92 step:46000 loss:367.3001496847\n",
      "epoch:94 step:47000 loss:367.2993680953\n",
      "epoch:96 step:48000 loss:367.2985776804\n",
      "epoch:98 step:49000 loss:367.2979317797\n",
      "epoch:100 step:50000 loss:367.2973233372\n",
      "train finished!\n"
     ]
    },
    {
     "data": {
      "image/png": "[encoded data removed]",
      "text/plain": [
       "<Figure size 432x288 with 1 Axes>"
      ]
     },
     "metadata": {
      "needs_background": "light"
     },
     "output_type": "display_data"
    }
   ],
   "source": [
    "step = 0\n",
    "loss_sum = 0\n",
    "with tf.Session() as sess:\n",
    "    sess.run(tf.global_variables_initializer())\n",
    "    for epoch in range(train_epochs):\n",
    "        for xs,ys in zip(x_data,y_data):\n",
    "            _,loss = sess.run([optimizer,loss_function],feed_dict={x:xs,y:ys})\n",
    "            step+=1\n",
    "            loss_sum += loss\n",
    "            if step % display_step == 0:\n",
    "                print('epoch:{:02d} step:{:03d} loss:{:.10f}'.format(epoch+1,step,loss_sum/display_step))\n",
    "                loss_sum = 0\n",
    "        ws = sess.run(w)\n",
    "        bs = sess.run(b)\n",
    "        plt.plot(x_data,ws*x_data+bs)\n",
    "print('train finished!')"
   ]
  },
  {
   "cell_type": "markdown",
   "metadata": {
    "pycharm": {}
   },
   "source": [
    "显示w,b"
   ]
  },
  {
   "cell_type": "code",
   "execution_count": 9,
   "metadata": {
    "pycharm": {}
   },
   "outputs": [
    {
     "name": "stdout",
     "output_type": "stream",
     "text": [
      "w:3.1361491680145264 b:4.263177394866943\n"
     ]
    }
   ],
   "source": [
    "print('w:{} b:{}'.format(ws,bs))"
   ]
  },
  {
   "cell_type": "markdown",
   "metadata": {
    "pycharm": {}
   },
   "source": [
    "预测"
   ]
  },
  {
   "cell_type": "code",
   "execution_count": 10,
   "metadata": {
    "pycharm": {}
   },
   "outputs": [
    {
     "name": "stdout",
     "output_type": "stream",
     "text": [
      "16.149182741642\n",
      "14.817686000000002\n"
     ]
    }
   ],
   "source": [
    "x0 = 3.79\n",
    "y0 = ws*x0+bs\n",
    "yy = 3.1234*x0+2.98\n",
    "print(y0)\n",
    "print(yy)"
   ]
  },
  {
   "cell_type": "markdown",
   "metadata": {
    "pycharm": {}
   },
   "source": [
    "保存日志"
   ]
  },
  {
   "cell_type": "code",
   "execution_count": 11,
   "metadata": {
    "pycharm": {}
   },
   "outputs": [],
   "source": [
    "writer = tf.summary.FileWriter(\"logs/\", tf.get_default_graph())  \n",
    "writer.close()"
   ]
  },
  {
   "cell_type": "code",
   "execution_count": null,
   "metadata": {
    "pycharm": {}
   },
   "outputs": [],
   "source": []
  }
 ],
 "metadata": {
  "kernelspec": {
   "display_name": "Python 3",
   "language": "python",
   "name": "python3"
  },
  "language_info": {
   "codemirror_mode": {
    "name": "ipython",
    "version": 3
   },
   "file_extension": ".py",
   "mimetype": "text/x-python",
   "name": "python",
   "nbconvert_exporter": "python",
   "pygments_lexer": "ipython3",
   "version": "3.6.8"
  },
  "stem_cell": {
   "cell_type": "raw",
   "metadata": {
    "pycharm": {
     "metadata": false
    }
   },
   "source": ""
  }
 },
 "nbformat": 4,
 "nbformat_minor": 1
}
